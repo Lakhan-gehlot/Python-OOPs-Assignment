{
  "nbformat": 4,
  "nbformat_minor": 0,
  "metadata": {
    "colab": {
      "provenance": []
    },
    "kernelspec": {
      "name": "python3",
      "display_name": "Python 3"
    },
    "language_info": {
      "name": "python"
    }
  },
  "cells": [
    {
      "cell_type": "markdown",
      "source": [
        "Python OOPs Questions"
      ],
      "metadata": {
        "id": "FM-IW0OGHB4I"
      }
    },
    {
      "cell_type": "markdown",
      "source": [
        "Q.1)  What is Object-Oriented Programming (OOP)?\n",
        "\n",
        "ANS:- Object-oriented programming (OOP) is a programming paradigm that uses \"objects\" to design computer programs. These objects contain data (attributes) and methods (functions) that operate on that data, promoting modularity, reusability, and easier maintenance of code."
      ],
      "metadata": {
        "id": "_mCDN1OEHIWn"
      }
    },
    {
      "cell_type": "markdown",
      "source": [
        "Q.2)  What is a class in OOP?\n",
        "\n",
        "ANS:- In object-oriented programming (OOP), a class is a blueprint or template for creating objects. It defines the structure and behavior (attributes and methods) that its objects will share. Think of it as a cookie-cutter for creating objects, where each object (or instance) of the class inherits the properties and behaviors defined in the class."
      ],
      "metadata": {
        "id": "lRSS2Qf7HX-8"
      }
    },
    {
      "cell_type": "markdown",
      "source": [
        "Q.3) What is an object in OOP?\n",
        "\n",
        "ANS:- In Object-Oriented Programming (OOP), an object is a fundamental building block representing a specific instance of a class. It encapsulates both data (attributes) and the methods (functions) that operate on that data. Essentially, objects are the tangible entities that exist in a program, performing actions and interacting with each other.\n",
        "\n"
      ],
      "metadata": {
        "id": "0ZhHsLKJHl8U"
      }
    },
    {
      "cell_type": "markdown",
      "source": [
        "Q.4) What is the difference between abstraction and encapsulation?\n",
        "\n",
        "ANS:- Abstraction and encapsulation are two fundamental concepts in object-oriented programming, often confused but distinct in their purpose. Abstraction focuses on hiding unnecessary complexity and showing only the essential features of an object, while encapsulation focuses on bundling the data (attributes) and methods (functions) that operate on that data into a single unit (class) and restricting access to the internal details."
      ],
      "metadata": {
        "id": "H_ve51rDH03l"
      }
    },
    {
      "cell_type": "markdown",
      "source": [
        "Q.5) What are dunder methods in Python?\n",
        "\n",
        "ANS:- Dunder methods, also known as magic methods or special methods, are a set of predefined methods in Python that are distinguished by their names starting and ending with double underscores (e.g., __init__, __str__, __len__). These methods allow you to define how your custom objects interact with Python's built-in functions, operators, and syntax."
      ],
      "metadata": {
        "id": "OowkK8qKIA4Z"
      }
    },
    {
      "cell_type": "markdown",
      "source": [
        "Q.6) Explain the concept of inheritance in OOP?\n",
        "\n",
        "\n",
        "ANS:- Inheritance in Object-Oriented Programming (OOP) is a mechanism where a new class (child or derived class) can inherit properties and behaviors (methods) from an existing class (parent or base class). This promotes code reusability and establishes a hierarchical relationship between classes, making the code more organized and efficient."
      ],
      "metadata": {
        "id": "Vr5iGkn5IMBb"
      }
    },
    {
      "cell_type": "markdown",
      "source": [
        "Q.7) What is polymorphism in OOP?\n",
        "\n",
        "ANS:- Polymorphism, in object-oriented programming (OOP), is the ability of an object to take on many forms. It allows you to treat objects of different classes in a uniform way through a common interface, enhancing code flexibility and reusability. This means a single method or variable can be used to represent or act upon different types of objects, with each object providing its own specific implementation."
      ],
      "metadata": {
        "id": "wYz5vOJNIXop"
      }
    },
    {
      "cell_type": "markdown",
      "source": [
        "Q.8) How is encapsulation achieved in Python?\n",
        "\n",
        "ANS:- Encapsulation in Python is achieved through a combination of conventions and language features, though it differs from the strict access modifiers found in languages like Java."
      ],
      "metadata": {
        "id": "hZqbtYk4IkDR"
      }
    },
    {
      "cell_type": "markdown",
      "source": [
        "Q.9) What is a constructor in Python?\n",
        "\n",
        "\n",
        "ANS:- In Python, a constructor is a special method used to initialize the attributes of an object when an instance of a class is created. Unlike some other programming languages where the constructor has the same name as the class, in Python, the constructor method is always named __init__."
      ],
      "metadata": {
        "id": "NMDS4arXIuS6"
      }
    },
    {
      "cell_type": "markdown",
      "source": [
        "Q.10) What are class and static methods in Python?\n",
        "\n",
        "\n",
        "ANS:- In Python, class and static methods are special types of methods within a class, differentiated from regular instance methods by their access to the class and instance state."
      ],
      "metadata": {
        "id": "evwRE_wCI5aS"
      }
    },
    {
      "cell_type": "markdown",
      "source": [
        "Q.11) H What is method overloading in Python?\n",
        "\n",
        "ANS:- Method overloading, in the context of object-oriented programming, refers to the ability to define multiple methods within the same class that share the same name but have different parameters. These differences can be in the number of parameters, their data types, or their order. This allows a single method name to perform different actions based on the arguments provided when it is called."
      ],
      "metadata": {
        "id": "HEnagkAwJESC"
      }
    },
    {
      "cell_type": "markdown",
      "source": [
        "Q.12) What is method overriding in OOP?\n",
        "\n",
        "\n",
        "ANS:- Method overriding in object-oriented programming is when a subclass provides a specific implementation of a method that is already defined in its superclass. This allows the subclass to customize the behavior of the method without altering the original implementation in the superclass. In essence, it provides a way for a subclass to \"replace\" or \"override\" a method inherited from its parent class."
      ],
      "metadata": {
        "id": "Z6tgRpUpK5Hm"
      }
    },
    {
      "cell_type": "markdown",
      "source": [
        "Q.13) What is a property decorator in Python?\n",
        "\n",
        "ANS:- The @property decorator in Python is a built-in decorator that transforms a method within a class into a \"property,\" allowing it to be accessed and modified like a regular attribute, while still enabling the execution of custom logic (such as validation, computation, or logging) during attribute access, modification, or deletion."
      ],
      "metadata": {
        "id": "bueCKlgjLGMm"
      }
    },
    {
      "cell_type": "markdown",
      "source": [
        "Q.14) Why is polymorphism important in OOP?\n",
        "\n",
        "ANS:- Polymorphism is crucial in object-oriented programming because it allows objects of different classes to be treated as objects of a common type, promoting code reusability, flexibility, and maintainability. It enables methods to behave differently based on the object's actual class at runtime, which simplifies code and allows for easier extension of functionality."
      ],
      "metadata": {
        "id": "n4G_4qS8LRk1"
      }
    },
    {
      "cell_type": "markdown",
      "source": [
        "Q.15) What is an abstract class in Python?\n",
        "\n",
        "ANS:- An abstract class in Python is a class that serves as a blueprint or template for other classes. It cannot be instantiated directly, meaning you cannot create objects of an abstract class. Its primary purpose is to define a common interface or structure that its subclasses must adhere to."
      ],
      "metadata": {
        "id": "VBbpqUblLbTl"
      }
    },
    {
      "cell_type": "markdown",
      "source": [
        "Q.16) What are the advantages of OOP?\n",
        "\n",
        "ANS- Object-Oriented Programming (OOP) offers several advantages, primarily enhancing code organization, reusability, and maintainability. Key benefits include modularity, allowing for easier troubleshooting and collaborative development; code reusability through inheritance, reducing redundancy; and flexibility through polymorphism, enabling adaptable solutions. Additionally, OOP simplifies complex systems, improves code readability, and facilitates scalability and maintainability.\n",
        "\n"
      ],
      "metadata": {
        "id": "_VpEhw2dLmCO"
      }
    },
    {
      "cell_type": "markdown",
      "source": [
        "Q.17) What is the difference between a class variable and an instance variable?\n",
        "\n",
        "# ANS:- Class variables and instance variables differ in their scope and how they are accessed. Class variables are shared among all instances of a class, while instance variables are unique to each object (instance) of a class."
      ],
      "metadata": {
        "id": "V2fEHIJALzaq"
      }
    },
    {
      "cell_type": "markdown",
      "source": [
        "Q.18) What is multiple inheritance in Python?\n",
        "\n",
        "\n",
        "ANS:- Multiple inheritance in Python is a feature of object-oriented programming where a class can inherit attributes and methods from more than one parent class. This allows a single child class to combine functionalities from multiple distinct sources."
      ],
      "metadata": {
        "id": "zWxtZJTxMBfQ"
      }
    },
    {
      "cell_type": "markdown",
      "source": [
        "Q.19) Explain the purpose of ‘’__str__’ and ‘__repr__’ ‘ methods in Python?\n",
        "\n",
        "ANS:- In Python, __str__ and __repr__ are special methods (often called \"dunder methods\" due to their double underscores) that define how an object is represented as a string. They serve different purposes and are intended for different audiences:\n",
        "__str__ (for str() and print()):\n",
        "Purpose: To provide a human-readable, informal, and user-friendly string representation of an object.\n",
        "Audience: Primarily intended for end-users or for logging purposes where readability is key.\n",
        "Usage: It is called by the built-in str() function and implicitly by the print() function.\n",
        "Output: Should be concise and easy to understand, potentially omitting some internal details for clarity.\n"
      ],
      "metadata": {
        "id": "48Bz7gU9MYkR"
      }
    },
    {
      "cell_type": "markdown",
      "source": [
        "Q.20) What is the significance of the ‘super()’ function in Python?\n",
        "\n",
        "ANS:- The super() function in Python holds significant importance in the context of object-oriented programming, particularly when dealing with inheritance. Its primary significance lies in providing a mechanism to access methods and properties of a parent or sibling class from within a child or subclass."
      ],
      "metadata": {
        "id": "PDVrINzdMmSa"
      }
    },
    {
      "cell_type": "markdown",
      "source": [
        "Q.21) What is the significance of the __del__ method in Python?\n",
        "\n",
        "ANS:- The __del__ method in Python, also known as the destructor, is a special method that is automatically called when an object is about to be garbage collected. Its primary significance lies in allowing for resource cleanup and finalization tasks before an object is completely removed from memory.\n",
        "ANS:-"
      ],
      "metadata": {
        "id": "4jTK8C6sMw8f"
      }
    },
    {
      "cell_type": "markdown",
      "source": [
        "Q.22) What is the difference between @staticmethod and @classmethod in Python?\n",
        "\n",
        "ANS:- The primary difference between @staticmethod and @classmethod in Python lies in how they interact with the class and its instances:\n",
        "@classmethod:\n",
        "Takes the class itself as its first argument, conventionally named cls.\n",
        "Can access and modify class-level attributes and methods.\n",
        "Often used for factory methods that return instances of the class or its subclasses, or for methods that operate on class-level data."
      ],
      "metadata": {
        "id": "rFqsEsZvM9fu"
      }
    },
    {
      "cell_type": "markdown",
      "source": [
        "Q.23) How does polymorphism work in Python with inheritance?\n",
        "\n",
        "ANS:- Polymorphism in Python, when combined with inheritance, allows objects of different classes that share a common parent to be treated uniformly through a common interface. This is primarily achieved through method overriding.\n",
        "\n"
      ],
      "metadata": {
        "id": "jtVOQtsqNKzl"
      }
    },
    {
      "cell_type": "markdown",
      "source": [
        "Q.24) What is method chaining in Python OOP?\n",
        "\n",
        "ANS:- Method chaining in Python Object-Oriented Programming (OOP) is a technique that allows multiple methods to be called sequentially on the same object in a single line of code. This is achieved by having each method in the chain return the object itself (or a modified version of it) after performing its operation.\n",
        "The core principle behind method chaining is that each method call returns an instance of the class, enabling the next method in the chain to be invoked on that same instance. This eliminates the need for intermediate variables to store the object at each step, leading to more concise, readable, and \"fluent\" code."
      ],
      "metadata": {
        "id": "ZVQ2RbtbNYLb"
      }
    },
    {
      "cell_type": "markdown",
      "source": [
        "Q.25) What is the purpose of the __call__ method in Python?\n",
        "\n",
        "\n",
        "ANS:- The purpose of the __call__ method in Python is to make instances of a class callable, meaning they can be treated and invoked like functions.\n",
        "When you define the __call__ method within a class, and then create an instance of that class, you can directly \"call\" the instance using parentheses, just as you would call a function. The code within the __call__ method will then be executed."
      ],
      "metadata": {
        "id": "bBYuvHNbNlGC"
      }
    },
    {
      "cell_type": "markdown",
      "source": [
        "Practical Questions"
      ],
      "metadata": {
        "id": "emGsbQrmN6Zs"
      }
    },
    {
      "cell_type": "code",
      "source": [
        "#Q1)  Create a parent class Animal with a method speak() that prints a generic message. Create a child class Dog\n",
        "that overrides the speak() method to print \"Bark!\".\n",
        "\n",
        "\n",
        "ANS:- # Animal Class\n",
        "class Animal:\n",
        "    def speak(self):\n",
        "        print(\"This animal makes a sound.\")\n",
        "\n",
        "# Dog Class\n",
        "class Dog(Animal):\n",
        "    def speak(self):\n",
        "        print(\"Bark!\")\n"
      ],
      "metadata": {
        "id": "YzynIF3YO89X"
      },
      "execution_count": null,
      "outputs": []
    },
    {
      "cell_type": "code",
      "source": [
        "#Q.2)  Write a program to create an abstract class Shape with a method area(). Derive classes Circle and Rectangle\n",
        "from it and implement the area() method in both.\n",
        "\n",
        "\n",
        "ANS:- from abc import ABC, abstractmethod\n",
        "import math\n",
        "\n",
        "class Shape(ABC):\n",
        "    @abstractmethod\n",
        "    def area(self):\n",
        "        pass\n",
        "\n",
        "class Circle(Shape):\n",
        "    def __init__(self, radius):\n",
        "        self.radius = radius\n",
        "\n",
        "    def area(self):\n",
        "        return math.pi * (self.radius ** 2)\n",
        "\n",
        "class Rectangle(Shape):\n",
        "    def __init__(self, width, height):\n",
        "        self.width = width\n",
        "        self.height = height\n",
        "\n",
        "    def area(self):\n",
        "        return self.width * self.height\n"
      ],
      "metadata": {
        "id": "5sR249nqPHQb"
      },
      "execution_count": null,
      "outputs": []
    },
    {
      "cell_type": "code",
      "source": [
        "#Q.3) Implement a multi-level inheritance scenario where a class Vehicle has an attribute type. Derive a class Car\n",
        "and further derive a class ElectricCar that adds a battery attribute.\n",
        "\n",
        "ANS:- class Vehicle:\n",
        "    def __init__(self, vehicle_type):\n",
        "        self.vehicle_type = vehicle_type\n",
        "\n",
        "class Car(Vehicle):\n",
        "    def __init__(self, vehicle_type, model):\n",
        "        super().__init__(vehicle_type)\n",
        "        self.model = model\n",
        "\n",
        "class ElectricCar(Car):\n",
        "    def __init__(self, vehicle_type, model, battery_capacity):\n",
        "        super().__init__(vehicle_type, model)\n",
        "        self.battery_capacity = battery_capacity\n"
      ],
      "metadata": {
        "id": "Z8Js6HTjPVzt"
      },
      "execution_count": null,
      "outputs": []
    },
    {
      "cell_type": "code",
      "source": [
        "#Q.4) Demonstrate polymorphism by creating a base class Bird with a method fly(). Create two derived classes\n",
        "Sparrow and Penguin that override the fly() method.\n",
        "\n",
        "ANS:- # Polymorphism in Python\n",
        "\n",
        "class Bird:\n",
        "    def fly(self):\n",
        "        raise NotImplementedError(\"Subclasses must implement this method\")\n",
        "\n",
        "class Sparrow(Bird):\n",
        "    def fly(self):\n",
        "        return \"Sparrow is flying\"\n",
        "\n",
        "class Penguin(Bird):\n",
        "    def fly(self):\n",
        "        return \"Penguin cannot fly\"\n",
        "\n",
        "# Example usage\n",
        "birds = [Sparrow(), Penguin()]\n",
        "\n",
        "for bird in birds:\n",
        "    print(bird.fly())\n"
      ],
      "metadata": {
        "id": "dRo6d-ggPlMg"
      },
      "execution_count": null,
      "outputs": []
    },
    {
      "cell_type": "code",
      "source": [
        "#Q.5) Write a program to demonstrate encapsulation by creating a class BankAccount with private attributes\n",
        "balance and methods to deposit, withdraw, and check balance.\n",
        "\n",
        "ANS:- class BankAccount:\n",
        "    def __init__(self):\n",
        "        self.__balance = 0.0\n",
        "\n",
        "    def deposit(self, amount):\n",
        "        if amount > 0:\n",
        "            self.__balance += amount\n",
        "            return True\n",
        "        return False\n",
        "\n",
        "    def withdraw(self, amount):\n",
        "        if 0 < amount <= self.__balance:\n",
        "            self.__balance -= amount\n",
        "            return True\n",
        "        return False\n",
        "\n",
        "    def check_balance(self):\n",
        "        return self.__balance\n"
      ],
      "metadata": {
        "id": "NEZxJ3erPyGl"
      },
      "execution_count": null,
      "outputs": []
    },
    {
      "cell_type": "code",
      "source": [
        "#Q.6)  Demonstrate runtime polymorphism using a method play() in a base class Instrument. Derive classes Guitar\n",
        "and Piano that implement their own version of play().\n",
        "\n",
        "\n",
        "ANS:- # Runtime Polymorphism Example\n",
        "\n",
        "class Instrument:\n",
        "    def play(self):\n",
        "        pass\n",
        "\n",
        "class Guitar(Instrument):\n",
        "    def play(self):\n",
        "        return \"Strumming the guitar!\"\n",
        "\n",
        "class Piano(Instrument):\n",
        "    def play(self):\n",
        "        return \"Playing the piano!\"\n",
        "\n",
        "# Demonstration of runtime polymorphism\n",
        "def perform(instrument):\n",
        "    print(instrument.play())\n",
        "\n",
        "guitar = Guitar()\n",
        "piano = Piano()\n",
        "\n",
        "perform(guitar)\n",
        "perform(piano)\n"
      ],
      "metadata": {
        "id": "t_DFlixwQBlT"
      },
      "execution_count": null,
      "outputs": []
    },
    {
      "cell_type": "code",
      "source": [
        "#Q.7)  Create a class MathOperations with a class method add_numbers() to add two numbers and a static\n",
        "method subtract_numbers() to subtract two numbers.\n",
        "\n",
        "ANS:- # MathOperations\n",
        "class MathOperations:\n",
        "\n",
        "    @classmethod\n",
        "    def add_numbers(cls, a, b):\n",
        "        return a + b\n",
        "\n",
        "    @staticmethod\n",
        "    def subtract_numbers(a, b):\n",
        "        return a - b\n"
      ],
      "metadata": {
        "id": "4jZ4eTnfQMAF"
      },
      "execution_count": null,
      "outputs": []
    },
    {
      "cell_type": "code",
      "source": [
        "#Q.8) . Implement a class Person with a class method to count the total number of persons created.\n",
        "\n",
        "ANS:- # Person Class Implementation\n",
        "\n",
        "class Person:\n",
        "    total_persons = 0\n",
        "\n",
        "    def __init__(self, name):\n",
        "        self.name = name\n",
        "        Person.total_persons += 1\n",
        "\n",
        "    @classmethod\n",
        "    def count_persons(cls):\n",
        "        return cls.total_persons\n"
      ],
      "metadata": {
        "id": "xpNE_ZLVQV0l"
      },
      "execution_count": null,
      "outputs": []
    },
    {
      "cell_type": "code",
      "source": [
        "#Q.9) Write a class Fraction with attributes numerator and denominator. Override the str method to display the\n",
        "fraction as \"numerator/denominator\".\n",
        "\n",
        "ANS:- class Fraction:\n",
        "    def __init__(self, numerator, denominator):\n",
        "        self.numerator = numerator\n",
        "        self.denominator = denominator\n",
        "\n",
        "    def __str__(self):\n",
        "        return f\"{self.numerator}/{self.denominator}\"\n"
      ],
      "metadata": {
        "id": "FkF5C6ISQgXg"
      },
      "execution_count": null,
      "outputs": []
    },
    {
      "cell_type": "code",
      "source": [
        "#Q.10)  Demonstrate operator overloading by creating a class Vector and overriding the add method to add two\n",
        "vectors.\n",
        "\n",
        "\n",
        "ANS:- class Vector:\n",
        "    def __init__(self, x, y):\n",
        "        self.x = x\n",
        "        self.y = y\n",
        "\n",
        "    def __add__(self, other):\n",
        "        return Vector(self.x + other.x, self.y + other.y)\n",
        "\n",
        "    def __repr__(self):\n",
        "        return f\"Vector({self.x}, {self.y})\"\n",
        "\n",
        "# Example usage\n",
        "v1 = Vector(2, 3)\n",
        "v2 = Vector(4, 5)\n",
        "result = v1 + v2\n",
        "print(result)  # Output: Vector(6, 8)\n"
      ],
      "metadata": {
        "id": "N2PsyABCQrv1"
      },
      "execution_count": null,
      "outputs": []
    },
    {
      "cell_type": "code",
      "source": [
        "#Q.11)  Create a class Person with attributes name and age. Add a method greet() that prints \"Hello, my name is\n",
        "{name} and I am {age} years old.\"\n",
        "\n",
        "ANS:- class Person:\n",
        "    def __init__(self, name, age):\n",
        "        self.name = name\n",
        "        self.age = age\n",
        "\n",
        "    def greet(self):\n",
        "        print(f\"Hello, my name is {self.name} and I am {self.age} years old.\")\n"
      ],
      "metadata": {
        "id": "IchTJU9QQ53_"
      },
      "execution_count": null,
      "outputs": []
    },
    {
      "cell_type": "code",
      "source": [
        "#Q.12)  Implement a class Student with attributes name and grades. Create a method average_grade() to compute\n",
        "the average of the grades.?\n",
        "\n",
        "ANS:- class Student:\n",
        "    def __init__(self, name, grades):\n",
        "        self.name = name\n",
        "        self.grades = grades\n",
        "\n",
        "    def average_grade(self):\n",
        "        return sum(self.grades) / len(self.grades) if self.grades else 0\n"
      ],
      "metadata": {
        "id": "AIW5-IIWREPS"
      },
      "execution_count": null,
      "outputs": []
    },
    {
      "cell_type": "code",
      "source": [
        "#Q.13)  Create a class Rectangle with methods set_dimensions() to set the dimensions and area() to calculate the\n",
        "area.\n",
        "\n",
        "\n",
        "ANS:- # Rectangle Class\n",
        "class Rectangle:\n",
        "    def __init__(self):\n",
        "        self.width = 0\n",
        "        self.height = 0\n",
        "\n",
        "    def set_dimensions(self, width, height):\n",
        "        self.width = width\n",
        "        self.height = height\n",
        "\n",
        "    def area(self):\n",
        "        return self.width * self.height\n"
      ],
      "metadata": {
        "id": "OkxwgEWdROjQ"
      },
      "execution_count": null,
      "outputs": []
    },
    {
      "cell_type": "code",
      "source": [
        "#Q.14)  Create a class Employee with a method calculate_salary() that computes the salary based on hours worked\n",
        "and hourly rate. Create a derived class Manager that adds a bonus to the salary.\n",
        "\n",
        "\n",
        "ANS:- # Employee Class\n",
        "class Employee:\n",
        "    def __init__(self, hours_worked, hourly_rate):\n",
        "        self.hours_worked = hours_worked\n",
        "        self.hourly_rate = hourly_rate\n",
        "\n",
        "    def calculate_salary(self):\n",
        "        return self.hours_worked * self.hourly_rate\n",
        "\n",
        "# Manager Class\n",
        "class Manager(Employee):\n",
        "    def __init__(self, hours_worked, hourly_rate, bonus):\n",
        "        super().__init__(hours_worked, hourly_rate)\n",
        "        self.bonus = bonus\n",
        "\n",
        "    def calculate_salary(self):\n",
        "        base_salary = super().calculate_salary()\n",
        "        return base_salary + self.bonus\n"
      ],
      "metadata": {
        "id": "4K-dsUL_RXnP"
      },
      "execution_count": null,
      "outputs": []
    },
    {
      "cell_type": "code",
      "source": [
        "#Q.15)  Create a class Product with attributes name, price, and quantity. Implement a method total_price() that\n",
        "calculates the total price of the product.\n",
        "\n",
        "\n",
        "ANS:- class Product:\n",
        "    def __init__(self, name, price, quantity):\n",
        "        self.name = name\n",
        "        self.price = price\n",
        "        self.quantity = quantity\n",
        "\n",
        "    def total_price(self):\n",
        "        return self.price * self.quantity\n"
      ],
      "metadata": {
        "id": "joDGMmssRipw"
      },
      "execution_count": null,
      "outputs": []
    },
    {
      "cell_type": "code",
      "source": [
        "#Q.16) Create a class Animal with an abstract method sound(). Create two derived classes Cow and Sheep that\n",
        "implement the sound() method.\n",
        "\n",
        "ANS:- # Animal Class Definition\n",
        "from abc import ABC, abstractmethod\n",
        "\n",
        "class Animal(ABC):\n",
        "    @abstractmethod\n",
        "    def sound(self):\n",
        "        pass\n",
        "\n",
        "# Cow Class Definition\n",
        "class Cow(Animal):\n",
        "    def sound(self):\n",
        "        return \"Moo\"\n",
        "\n",
        "# Sheep Class Definition\n",
        "class Sheep(Animal):\n",
        "    def sound(self):\n",
        "        return \"Baa\"\n"
      ],
      "metadata": {
        "id": "7zYXxSCLR1Ji"
      },
      "execution_count": null,
      "outputs": []
    },
    {
      "cell_type": "code",
      "source": [
        "#Q.17)  Create a class Book with attributes title, author, and year_published. Add a method get_book_info() that\n",
        "returns a formatted string with the book's details.\n",
        "\n",
        "\n",
        "ANS:- class Book:\n",
        "    def __init__(self, title, author, year_published):\n",
        "        self.title = title\n",
        "        self.author = author\n",
        "        self.year_published = year_published\n",
        "\n",
        "    def get_book_info(self):\n",
        "        return f\"'{self.title}' by {self.author}, published in {self.year_published}.\"\n"
      ],
      "metadata": {
        "id": "lNuLQGNRR-Me"
      },
      "execution_count": null,
      "outputs": []
    },
    {
      "cell_type": "code",
      "source": [
        "#Q.18)  Create a class House with attributes address and price. Create a derived class Mansion that adds an\n",
        "attribute number_of_rooms.\n",
        "\n",
        "ANS:- # House Class Definition\n",
        "class House:\n",
        "    def __init__(self, address, price):\n",
        "        self.address = address\n",
        "        self.price = price\n",
        "\n",
        "# Mansion Class Definition\n",
        "class Mansion(House):\n",
        "    def __init__(self, address, price, number_of_rooms):\n",
        "        super().__init__(address, price)\n",
        "        self.number_of_rooms = number_of_rooms\n"
      ],
      "metadata": {
        "id": "KiZLtzTwSJmY"
      },
      "execution_count": null,
      "outputs": []
    }
  ]
}